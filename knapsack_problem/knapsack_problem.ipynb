{
 "cells": [
  {
   "attachments": {},
   "cell_type": "markdown",
   "id": "83f5e182",
   "metadata": {},
   "source": [
    "## Modelo\n",
    "\n",
    "$$\n",
    "\\begin{align}\n",
    "    \\text{max} \\quad & \\sum_{i \\in I}{c_{i} x_{i}} \\\\\n",
    "    \\text{s.t.} \\quad & \\sum_{i \\in I}{w_{i} x_{i}} \\leq k \\\\\n",
    "    & x_{i} \\in \\left \\{ 0, 1 \\right \\} & \\forall ~i \\in I\\\\\n",
    "\\end{align}\n",
    "\n"
   ]
  },
  {
   "cell_type": "code",
   "execution_count": 48,
   "id": "756d4a34",
   "metadata": {},
   "outputs": [],
   "source": [
    "# x_i --> Variável de decisão binária\n",
    "# c_i --> Valor do item\n",
    "# w_i --> Peso do item\n",
    "# k --> Capacidade da mochila"
   ]
  },
  {
   "cell_type": "code",
   "execution_count": 49,
   "id": "89ed121d",
   "metadata": {},
   "outputs": [],
   "source": [
    "import numpy as np\n",
    "import pyomo.environ as pyo\n",
    "from pyomo.contrib.appsi.solvers.highs import Highs"
   ]
  },
  {
   "cell_type": "code",
   "execution_count": 50,
   "id": "266fa90c",
   "metadata": {},
   "outputs": [],
   "source": [
    "# Quantidade de items\n",
    "n = 10\n",
    "\n",
    "# Conjunto de items\n",
    "I = list(range(1, n+1))\n",
    "\n",
    "# Random seed\n",
    "np.random.seed(12)\n",
    "\n",
    "# Pesos de cada item\n",
    "w = dict(zip(I, np.random.normal(loc=5.0, scale=1.0, size=n).clip(0.5, 10.0)))\n",
    "\n",
    "# Valor\n",
    "value = dict(zip(I, np.random.normal(loc=10.0, scale=1.0, size=n).clip(0.5, 20.0)))\n",
    "\n",
    "# Capacidade da Mochila\n",
    "k = 15"
   ]
  },
  {
   "attachments": {},
   "cell_type": "markdown",
   "id": "d3147bc5",
   "metadata": {},
   "source": [
    "## Using pyomo"
   ]
  },
  {
   "cell_type": "code",
   "execution_count": 51,
   "id": "3230c35d",
   "metadata": {},
   "outputs": [],
   "source": [
    "model = pyo.ConcreteModel()"
   ]
  },
  {
   "attachments": {},
   "cell_type": "markdown",
   "id": "0d93e140",
   "metadata": {},
   "source": [
    "### Sets"
   ]
  },
  {
   "cell_type": "code",
   "execution_count": 52,
   "id": "001b5e09",
   "metadata": {},
   "outputs": [],
   "source": [
    "model.I = pyo.Set(initialize=I)"
   ]
  },
  {
   "attachments": {},
   "cell_type": "markdown",
   "id": "f1142256",
   "metadata": {},
   "source": [
    "### Parameters"
   ]
  },
  {
   "cell_type": "code",
   "execution_count": 53,
   "id": "427c2e74",
   "metadata": {},
   "outputs": [],
   "source": [
    "# Parametros do problema\n",
    "model.k = pyo.Param(initialize=k)"
   ]
  },
  {
   "cell_type": "code",
   "execution_count": 54,
   "id": "e906055a",
   "metadata": {},
   "outputs": [],
   "source": [
    "# Parametros dos itens\n",
    "model.w = pyo.Param(model.I, initialize=w)\n",
    "model.c = pyo.Param(model.I, initialize=value)"
   ]
  },
  {
   "attachments": {},
   "cell_type": "markdown",
   "id": "006f711b",
   "metadata": {},
   "source": [
    "### Variables"
   ]
  },
  {
   "cell_type": "code",
   "execution_count": 55,
   "id": "d8efbb32",
   "metadata": {},
   "outputs": [],
   "source": [
    "model.x = pyo.Var(model.I, within=pyo.Binary)"
   ]
  },
  {
   "attachments": {},
   "cell_type": "markdown",
   "id": "1fb29e04",
   "metadata": {},
   "source": [
    "### Constraints"
   ]
  },
  {
   "cell_type": "code",
   "execution_count": 56,
   "id": "d56d7b13",
   "metadata": {},
   "outputs": [],
   "source": [
    "def capacity_constraint(model):\n",
    "    return sum(model.x[i] * model.w[i] for i in model.I) <= model.k\n",
    "\n",
    "model.capacity_constraint = pyo.Constraint(rule=capacity_constraint)"
   ]
  },
  {
   "attachments": {},
   "cell_type": "markdown",
   "id": "f78b6f13",
   "metadata": {},
   "source": [
    "### Objective"
   ]
  },
  {
   "cell_type": "code",
   "execution_count": 57,
   "id": "5ffd2708",
   "metadata": {},
   "outputs": [],
   "source": [
    "def obj_function(model):\n",
    "    return sum(model.x[i] * model.c[i] for i in model.I)\n",
    "    \n",
    "model.objective = pyo.Objective(rule=obj_function, sense=pyo.maximize)"
   ]
  },
  {
   "attachments": {},
   "cell_type": "markdown",
   "id": "3568f920",
   "metadata": {},
   "source": [
    "### Solve"
   ]
  },
  {
   "cell_type": "code",
   "execution_count": 58,
   "id": "d2f4d4ac",
   "metadata": {},
   "outputs": [],
   "source": [
    "solver = Highs()\n",
    "solution = solver.solve(model)"
   ]
  },
  {
   "cell_type": "code",
   "execution_count": 59,
   "metadata": {},
   "outputs": [
    {
     "data": {
      "text/plain": [
       "<pyomo.core.base.PyomoModel.ConcreteModel at 0x22ca411b4a0>"
      ]
     },
     "execution_count": 59,
     "metadata": {},
     "output_type": "execute_result"
    }
   ],
   "source": [
    "model"
   ]
  },
  {
   "cell_type": "code",
   "execution_count": 60,
   "id": "fb0cd87d",
   "metadata": {},
   "outputs": [
    {
     "name": "stdout",
     "output_type": "stream",
     "text": [
      "objective : Size=1, Index=None, Active=True\n",
      "    Key  : Active : Value\n",
      "    None :   True : 32.580928588521495\n"
     ]
    }
   ],
   "source": [
    "model.objective.display()"
   ]
  },
  {
   "cell_type": "code",
   "execution_count": 61,
   "id": "2086ee08",
   "metadata": {},
   "outputs": [
    {
     "name": "stdout",
     "output_type": "stream",
     "text": [
      "x : Size=10, Index=I\n",
      "    Key : Lower : Value : Upper : Fixed : Stale : Domain\n",
      "      1 :     0 :   0.0 :     1 : False : False : Binary\n",
      "      2 :     0 :   1.0 :     1 : False : False : Binary\n",
      "      3 :     0 :   1.0 :     1 : False : False : Binary\n",
      "      4 :     0 :   0.0 :     1 : False : False : Binary\n",
      "      5 :     0 :   0.0 :     1 : False : False : Binary\n",
      "      6 :     0 :   0.0 :     1 : False : False : Binary\n",
      "      7 :     0 :   1.0 :     1 : False : False : Binary\n",
      "      8 :     0 :   0.0 :     1 : False : False : Binary\n",
      "      9 :     0 :   0.0 :     1 : False : False : Binary\n",
      "     10 :     0 :   0.0 :     1 : False : False : Binary\n"
     ]
    }
   ],
   "source": [
    "model.x.display()"
   ]
  },
  {
   "cell_type": "code",
   "execution_count": null,
   "metadata": {},
   "outputs": [],
   "source": []
  }
 ],
 "metadata": {
  "kernelspec": {
   "display_name": "Python 3.9.7 ('venv': venv)",
   "language": "python",
   "name": "python3"
  },
  "language_info": {
   "codemirror_mode": {
    "name": "ipython",
    "version": 3
   },
   "file_extension": ".py",
   "mimetype": "text/x-python",
   "name": "python",
   "nbconvert_exporter": "python",
   "pygments_lexer": "ipython3",
   "version": "3.8.13"
  },
  "vscode": {
   "interpreter": {
    "hash": "bc08d11936453eaa7fe55368990a6972dd4c9fc3768bd9ccbb85511fe4757f39"
   }
  }
 },
 "nbformat": 4,
 "nbformat_minor": 5
}
