{
 "cells": [
  {
   "cell_type": "markdown",
   "metadata": {},
   "source": [
    "# The Facility Dispersion Problem"
   ]
  },
  {
   "cell_type": "markdown",
   "metadata": {},
   "source": [
    "## p-dispersion\n",
    "\n",
    "$$\n",
    "\\begin{align}\n",
    "    \\text{max} \\quad & D \\\\\n",
    "    \\text{s.t} \\quad & \\sum_{i \\in V} x_{i} = p & \\forall \\; i \\in V \\\\\n",
    "    & z_{i, j} \\leq x_{i} & \\forall \\; i, j \\in A \\\\\n",
    "    & z_{i, j} \\leq x_{j} & \\forall \\; i, j \\in A \\\\\n",
    "    & x_{i} + x_{j} - 1 \\leq z_{i, j} & \\forall \\; i, j \\in A \\\\\n",
    "    & D \\leq d_{i, j} + M (1 - z_{i, j}) & \\forall \\; i, j \\in A \\\\\n",
    "    & x_{i} \\in \\{0, 1\\} & \\forall \\; i \\in V \\\\\n",
    "    & z_{i, j} \\in \\{0, 1\\} & \\forall \\; i, j \\in A \\\\\n",
    "\\end{align}\n",
    "$$"
   ]
  },
  {
   "cell_type": "markdown",
   "metadata": {},
   "source": [
    "## maxisum\n",
    "\n",
    "$$\n",
    "\\begin{align}\n",
    "    \\text{max} \\quad & \\sum_{i \\in V}\\sum_{j \\in V} d_{i, j} z_{i, j} \\\\\n",
    "    \\text{s.t} \\quad & d_{opt} \\leq D \\\\\n",
    "\\end{align}\n",
    "$$"
   ]
  },
  {
   "cell_type": "code",
   "execution_count": 1,
   "metadata": {},
   "outputs": [],
   "source": [
    "import json\n",
    "\n",
    "import numpy as np\n",
    "from scipy.spatial.distance import pdist, squareform\n",
    "import pyomo.environ as pyo\n",
    "import matplotlib.pyplot as plt"
   ]
  },
  {
   "cell_type": "markdown",
   "metadata": {},
   "source": [
    "## Read input data"
   ]
  },
  {
   "cell_type": "code",
   "execution_count": 2,
   "metadata": {},
   "outputs": [],
   "source": [
    "# Read file\n",
    "with open(\"./data/data_25_5.json\", mode=\"r\") as file:\n",
    "    data = json.load(file)\n",
    "\n",
    "N = len(data[\"coordinates\"])\n",
    "coordinates = np.array(data[\"coordinates\"])\n",
    "weights = squareform(pdist(coordinates))\n",
    "\n",
    "# Number of points to select\n",
    "p = data[\"p\"]"
   ]
  },
  {
   "cell_type": "code",
   "execution_count": 26,
   "metadata": {},
   "outputs": [
    {
     "data": {
      "image/png": "[encoded data removed]",
      "text/plain": [
       "<Figure size 500x500 with 1 Axes>"
      ]
     },
     "metadata": {},
     "output_type": "display_data"
    }
   ],
   "source": [
    "fig, ax = plt.subplots(figsize=[5, 5], dpi=100)\n",
    "ax.scatter(\n",
    "    coordinates[:, 0],\n",
    "    coordinates[:, 1],\n",
    "    color=\"navy\"\n",
    ")\n",
    "\n",
    "ax.axis('off')\n",
    "\n",
    "fig.tight_layout()\n",
    "plt.show()"
   ]
  },
  {
   "cell_type": "markdown",
   "metadata": {},
   "source": [
    "## pyomo model"
   ]
  },
  {
   "cell_type": "code",
   "execution_count": 27,
   "metadata": {},
   "outputs": [],
   "source": [
    "# Instantiate pyomo ConcreteModel\n",
    "model = pyo.ConcreteModel()"
   ]
  },
  {
   "cell_type": "code",
   "execution_count": 28,
   "metadata": {},
   "outputs": [],
   "source": [
    "# Sets of nodes and arcs\n",
    "model.V = pyo.Set(initialize=range(weights.shape[0]))\n",
    "model.A = pyo.Set(\n",
    "    initialize=[(i,j) for i in range(weights.shape[0]) \n",
    "                for j in range(weights.shape[0]) \n",
    "                if i != j ]\n",
    ")"
   ]
  },
  {
   "cell_type": "code",
   "execution_count": 29,
   "metadata": {},
   "outputs": [],
   "source": [
    "# Parameters\n",
    "model.d = pyo.Param(model.A, initialize={(i,j): weights[i, j] for (i,j) in model.A})\n",
    "model.p = pyo.Param(initialize=p)\n",
    "\n",
    "# Big M\n",
    "model.M = pyo.Param(initialize = max(model.d[:,:]) - min(model.d[:,:]))"
   ]
  },
  {
   "cell_type": "code",
   "execution_count": 30,
   "metadata": {},
   "outputs": [],
   "source": [
    "# Decision variables\n",
    "model.x = pyo.Var(model.V, within=pyo.Binary)\n",
    "model.z = pyo.Var(model.A, within=pyo.Binary)\n",
    "model.D = pyo.Var(within=pyo.NonNegativeReals)"
   ]
  },
  {
   "cell_type": "code",
   "execution_count": 31,
   "metadata": {},
   "outputs": [],
   "source": [
    "# Constraints\n",
    "def p_selection(model):\n",
    "    return sum(model.x[:]) == model.p\n",
    "\n",
    "\n",
    "def dispersion_c1(model, i, j):\n",
    "    return model.z[i,j] <= model.x[i]\n",
    "\n",
    "\n",
    "def dispersion_c2(model, i, j):\n",
    "    return model.z[i,j] <= model.x[j]\n",
    "\n",
    "\n",
    "def dispersion_c3(model, i, j):\n",
    "    return model.x[i] + model.x[j] - 1 <= model.z[i,j]\n",
    "\n",
    "\n",
    "def maxmin_rule(model, i, j):\n",
    "    return model.D <= model.d[i,j] + model.M*(1 - model.z[i,j])\n",
    "\n",
    "\n",
    "#Set model attributes\n",
    "model.p_selection = pyo.Constraint(rule=p_selection)\n",
    "model.dispersion_c1 = pyo.Constraint(model.A, rule=dispersion_c1)\n",
    "model.dispersion_c2 = pyo.Constraint(model.A, rule=dispersion_c2)\n",
    "model.dispersion_c3 = pyo.Constraint(model.A, rule=dispersion_c3)\n",
    "model.maxmin_rule = pyo.Constraint(model.A, rule=maxmin_rule)"
   ]
  },
  {
   "cell_type": "code",
   "execution_count": 32,
   "metadata": {},
   "outputs": [],
   "source": [
    "#Objectives\n",
    "model.obj_pdisp = pyo.Objective(expr=model.D, sense=pyo.maximize)\n",
    "\n",
    "\n",
    "def obj_maxisum(model):\n",
    "    return sum(model.d[i,j] * model.z[i,j] for (i,j) in model.A)\n",
    "\n",
    "\n",
    "model.obj_maxisum = pyo.Objective(rule=obj_maxisum, sense=pyo.maximize)\n",
    "model.obj_maxisum.deactivate()"
   ]
  },
  {
   "cell_type": "markdown",
   "metadata": {},
   "source": [
    "## Solve"
   ]
  },
  {
   "cell_type": "code",
   "execution_count": 33,
   "metadata": {},
   "outputs": [],
   "source": [
    "# Function to solve model\n",
    "def solve_model(model, solver, **kwargs):\n",
    "\n",
    "    # Solve p-dispersion problem\n",
    "    solver.solve(model, **kwargs)\n",
    "\n",
    "    # Include constraint that does not allow objective degradation\n",
    "    d_opt = model.obj_pdisp()\n",
    "    model.pdisp_degradation = pyo.Constraint(expr=d_opt <= model.D)\n",
    "\n",
    "    # Change active objective\n",
    "    model.obj_pdisp.deactivate()\n",
    "    model.obj_maxisum.activate()\n",
    "\n",
    "    # Solve maxisum model\n",
    "    solver.solve(model, **kwargs)"
   ]
  },
  {
   "cell_type": "code",
   "execution_count": 34,
   "metadata": {},
   "outputs": [
    {
     "name": "stdout",
     "output_type": "stream",
     "text": [
      "Presolving model\n",
      "2401 rows, 626 cols, 5425 nonzeros\n",
      "1200 rows, 326 cols, 2723 nonzeros\n",
      "1200 rows, 326 cols, 2723 nonzeros\n",
      "\n",
      "Solving MIP model with:\n",
      "   1200 rows\n",
      "   326 cols (325 binary, 0 integer, 0 implied int., 1 continuous)\n",
      "   2723 nonzeros\n",
      "\n",
      "        Nodes      |    B&B Tree     |            Objective Bounds              |  Dynamic Constraints |       Work      \n",
      "     Proc. InQueue |  Leaves   Expl. | BestBound       BestSol              Gap |   Cuts   InLp Confl. | LpIters     Time\n",
      "\n",
      "         0       0         0   0.00%   1.25261538      -inf                 inf        0      0      0         0     0.0s\n",
      " R       0       0         0   0.00%   1.25261538      0.1864407976     571.86%        0      0      0        27     0.0s\n",
      " C       0       0         0   0.00%   1.25261538      0.1900518979     559.09%       13      7      0        47     0.1s\n",
      " L       0       0         0   0.00%   1.149900063     0.1923910354     497.69%     3612     46     21       782     0.5s\n",
      "\n",
      "4.0% inactive integer columns, restarting\n",
      "Model after restart has 1145 rows, 309 cols (308 bin., 0 int., 0 impl., 1 cont.), and 2646 nonzeros\n",
      "\n",
      "         0       0         0   0.00%   1.149900063     0.1923910354     497.69%       20      0      0      1532     0.5s\n",
      "         0       0         0   0.00%   1.099965604     0.1923910354     471.73%       20     17      5      1651     0.6s\n",
      " L       0       0         0   0.00%   0.8345276094    0.2438805276     242.19%     3087     42     23      2446     0.9s\n",
      " H       0       0         0   0.00%   0.8345276094    0.2613555155     219.31%     2406     28     29      2543     1.0s\n",
      " L       0       0         0   0.00%   0.8345276094    0.2912590299     186.52%     2412     28     53      2543     1.0s\n",
      " B      10       0         5  50.00%   0.8345276094    0.2993968497     178.74%     2419     28    139      4105     1.1s\n",
      " T      15       0         6  53.12%   0.8345276094    0.3051600674     173.47%     2420     28    141      4480     1.1s\n",
      "\n",
      "Solving report\n",
      "  Status            Optimal\n",
      "  Primal bound      0.305160067432\n",
      "  Dual bound        0.305160067432\n",
      "  Gap               0% (tolerance: 0.01%)\n",
      "  Solution status   feasible\n",
      "                    0.305160067432 (objective)\n",
      "                    0 (bound viol.)\n",
      "                    3.21964677141e-15 (int. viol.)\n",
      "                    0 (row viol.)\n",
      "  Timing            1.27 (total)\n",
      "                    0.08 (presolve)\n",
      "                    0.00 (postsolve)\n",
      "  Nodes             66\n",
      "  LP iterations     6845 (total)\n",
      "                    524 (strong br.)\n",
      "                    1554 (separation)\n",
      "                    1641 (heuristics)\n",
      "Presolving model\n",
      "1557 rows, 503 cols, 3615 nonzeros\n",
      "774 rows, 264 cols, 2380 nonzeros\n",
      "774 rows, 264 cols, 2380 nonzeros\n",
      "\n",
      "Solving MIP model with:\n",
      "   774 rows\n",
      "   264 cols (264 binary, 0 integer, 0 implied int., 0 continuous)\n",
      "   2380 nonzeros\n",
      "\n",
      "        Nodes      |    B&B Tree     |            Objective Bounds              |  Dynamic Constraints |       Work      \n",
      "     Proc. InQueue |  Leaves   Expl. | BestBound       BestSol              Gap |   Cuts   InLp Confl. | LpIters     Time\n",
      "\n",
      "         0       0         0   0.00%   79.53847133     -inf                 inf        0      0      0         0     0.2s\n",
      "         0       0         0   0.00%   64.96308756     -inf                 inf        0      0      4       281     0.2s\n",
      "\n",
      "Solving report\n",
      "  Status            Optimal\n",
      "  Primal bound      59.2391063583\n",
      "  Dual bound        59.2391063583\n",
      "  Gap               0% (tolerance: 0.01%)\n",
      "  Solution status   feasible\n",
      "                    59.2391063583 (objective)\n",
      "                    0 (bound viol.)\n",
      "                    0 (int. viol.)\n",
      "                    0 (row viol.)\n",
      "  Timing            0.39 (total)\n",
      "                    0.21 (presolve)\n",
      "                    0.00 (postsolve)\n",
      "  Nodes             1\n",
      "  LP iterations     407 (total)\n",
      "                    0 (strong br.)\n",
      "                    126 (separation)\n",
      "                    0 (heuristics)\n"
     ]
    }
   ],
   "source": [
    "solver = pyo.SolverFactory(\"appsi_highs\")\n",
    "solver.options[\"time_limit\"] = 180\n",
    "solve_model(model, solver, tee=True)"
   ]
  },
  {
   "cell_type": "code",
   "execution_count": 35,
   "metadata": {},
   "outputs": [
    {
     "data": {
      "image/png": "[encoded data removed]",
      "text/plain": [
       "<Figure size 500x500 with 1 Axes>"
      ]
     },
     "metadata": {},
     "output_type": "display_data"
    }
   ],
   "source": [
    "fig, ax = plt.subplots(figsize=[5, 5], dpi=100)\n",
    "facilities = np.array([i for i in model.x if np.isclose(model.x[i].value, 1)])\n",
    "\n",
    "ax.scatter(\n",
    "    coordinates[:, 0],\n",
    "    coordinates[:, 1],\n",
    "    color=\"navy\"\n",
    ")\n",
    "\n",
    "ax.scatter(\n",
    "    coordinates[facilities, 0],\n",
    "    coordinates[facilities, 1],\n",
    "    color=\"firebrick\",\n",
    "    label=\"Facilities\"\n",
    ")\n",
    "\n",
    "ax.axis('off')\n",
    "\n",
    "fig.tight_layout()\n",
    "plt.show()"
   ]
  },
  {
   "cell_type": "code",
   "execution_count": null,
   "metadata": {},
   "outputs": [],
   "source": []
  }
 ],
 "metadata": {
  "kernelspec": {
   "display_name": "venv",
   "language": "python",
   "name": "python3"
  },
  "language_info": {
   "codemirror_mode": {
    "name": "ipython",
    "version": 3
   },
   "file_extension": ".py",
   "mimetype": "text/x-python",
   "name": "python",
   "nbconvert_exporter": "python",
   "pygments_lexer": "ipython3",
   "version": "3.8.13"
  }
 },
 "nbformat": 4,
 "nbformat_minor": 2
}
